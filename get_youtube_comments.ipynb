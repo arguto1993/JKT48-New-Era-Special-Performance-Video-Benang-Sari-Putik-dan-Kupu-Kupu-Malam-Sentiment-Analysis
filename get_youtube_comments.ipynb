{
 "cells": [
  {
   "cell_type": "markdown",
   "metadata": {},
   "source": [
    "# Import Libraries"
   ]
  },
  {
   "cell_type": "code",
   "execution_count": 1,
   "metadata": {},
   "outputs": [],
   "source": [
    "import pandas as pd\n",
    "import getpass\n",
    "\n",
    "from datetime import date\n",
    "from googleapiclient.discovery import build"
   ]
  },
  {
   "cell_type": "markdown",
   "metadata": {},
   "source": [
    "# Build YouTube Client"
   ]
  },
  {
   "cell_type": "code",
   "execution_count": 2,
   "metadata": {},
   "outputs": [],
   "source": [
    "YT_API_KEY =  getpass.getpass('Enter YouTube API key: ')"
   ]
  },
  {
   "cell_type": "code",
   "execution_count": 3,
   "metadata": {},
   "outputs": [],
   "source": [
    "YT_CLIENT = build('youtube', 'v3', developerKey=YT_API_KEY)"
   ]
  },
  {
   "cell_type": "markdown",
   "metadata": {},
   "source": [
    "# Video ID"
   ]
  },
  {
   "cell_type": "code",
   "execution_count": 4,
   "metadata": {},
   "outputs": [],
   "source": [
    "VIDEO_ID = \"UUGY64rPLxo\""
   ]
  },
  {
   "cell_type": "markdown",
   "metadata": {},
   "source": [
    "# API Call Functions"
   ]
  },
  {
   "cell_type": "code",
   "execution_count": 5,
   "metadata": {},
   "outputs": [],
   "source": [
    "# Function to get replies for a specific comment\n",
    "def get_replies(yt_client, comment_id):\n",
    "    replies = []\n",
    "    next_page_token = None\n",
    "\n",
    "    while True:\n",
    "        # Only use pageToken for pagination\n",
    "        reply_request = yt_client.comments().list(\n",
    "            part=\"snippet\",\n",
    "            parentId=comment_id,\n",
    "            textFormat=\"plainText\",\n",
    "            pageToken=next_page_token\n",
    "        )\n",
    "        reply_response = reply_request.execute()\n",
    "\n",
    "        for item in reply_response['items']:\n",
    "            comment = item['snippet']\n",
    "            replies.append({\n",
    "                'ID': item['id'],  # Unique ID for the reply\n",
    "                'ParentID': comment_id,  # Parent comment ID\n",
    "                'Timestamp': comment['publishedAt'],\n",
    "                'Username': comment['authorDisplayName'],\n",
    "                'Comment': comment['textDisplay'],\n",
    "                'LikeCount': comment.get('likeCount', 0),\n",
    "                'ReplyCount': None,\n",
    "                'Date': comment.get('updatedAt', comment['publishedAt'])\n",
    "            })\n",
    "\n",
    "        # Get the next page token\n",
    "        next_page_token = reply_response.get('nextPageToken')\n",
    "        if not next_page_token:  # Stop if no more pages\n",
    "            break\n",
    "\n",
    "    return replies\n",
    "\n",
    "\n",
    "# Function to get all comments (including replies) for a single video\n",
    "def get_yt_video_comments(yt_client=YT_CLIENT, video_id=VIDEO_ID):\n",
    "    all_comments = []\n",
    "    next_page_token = None\n",
    "\n",
    "    while True:\n",
    "        comment_request = yt_client.commentThreads().list(\n",
    "            part=\"snippet\",\n",
    "            videoId=video_id,\n",
    "            pageToken=next_page_token,\n",
    "            textFormat=\"plainText\",\n",
    "            maxResults=100\n",
    "        )\n",
    "        comment_response = comment_request.execute()\n",
    "\n",
    "        for item in comment_response['items']:\n",
    "            top_comment = item['snippet']['topLevelComment']['snippet']\n",
    "            top_comment_id = item['snippet']['topLevelComment']['id']\n",
    "            all_comments.append({\n",
    "                'ID': top_comment_id,  # Unique ID for top-level comment\n",
    "                'ParentID': None,  # No parent for top-level comment\n",
    "                'Timestamp': top_comment['publishedAt'],\n",
    "                'Username': top_comment['authorDisplayName'],\n",
    "                'Comment': top_comment['textDisplay'],\n",
    "                'LikeCount': top_comment.get('likeCount', 0),\n",
    "                'ReplyCount': item['snippet'].get('totalReplyCount', 0),\n",
    "                'Date': top_comment.get('updatedAt', top_comment['publishedAt'])\n",
    "            })\n",
    "\n",
    "            # Fetch replies if there are any\n",
    "            if item['snippet']['totalReplyCount'] > 0:\n",
    "                all_comments.extend(get_replies(yt_client, top_comment_id))\n",
    "\n",
    "        next_page_token = comment_response.get('nextPageToken')\n",
    "        if not next_page_token:\n",
    "            break\n",
    "\n",
    "    df = pd.DataFrame(all_comments)\n",
    "\n",
    "    return df\n"
   ]
  },
  {
   "cell_type": "markdown",
   "metadata": {},
   "source": [
    "# Get Dataset"
   ]
  },
  {
   "cell_type": "code",
   "execution_count": 6,
   "metadata": {},
   "outputs": [
    {
     "name": "stdout",
     "output_type": "stream",
     "text": [
      "<class 'pandas.core.frame.DataFrame'>\n",
      "RangeIndex: 23008 entries, 0 to 23007\n",
      "Data columns (total 8 columns):\n",
      " #   Column      Non-Null Count  Dtype  \n",
      "---  ------      --------------  -----  \n",
      " 0   ID          23008 non-null  object \n",
      " 1   ParentID    11091 non-null  object \n",
      " 2   Timestamp   23008 non-null  object \n",
      " 3   Username    23008 non-null  object \n",
      " 4   Comment     23008 non-null  object \n",
      " 5   LikeCount   23008 non-null  int64  \n",
      " 6   ReplyCount  11917 non-null  float64\n",
      " 7   Date        23008 non-null  object \n",
      "dtypes: float64(1), int64(1), object(6)\n",
      "memory usage: 1.4+ MB\n"
     ]
    }
   ],
   "source": [
    "df = get_yt_video_comments(YT_CLIENT, VIDEO_ID)\n",
    "df.info()"
   ]
  },
  {
   "cell_type": "code",
   "execution_count": 10,
   "metadata": {},
   "outputs": [
    {
     "name": "stdout",
     "output_type": "stream",
     "text": [
      "<class 'pandas.core.frame.DataFrame'>\n",
      "RangeIndex: 23008 entries, 0 to 23007\n",
      "Data columns (total 8 columns):\n",
      " #   Column      Non-Null Count  Dtype \n",
      "---  ------      --------------  ----- \n",
      " 0   ID          23008 non-null  object\n",
      " 1   ParentID    11091 non-null  object\n",
      " 2   Timestamp   23008 non-null  object\n",
      " 3   Username    23008 non-null  object\n",
      " 4   Comment     23008 non-null  object\n",
      " 5   LikeCount   23008 non-null  int64 \n",
      " 6   ReplyCount  11917 non-null  Int64 \n",
      " 7   Date        23008 non-null  object\n",
      "dtypes: Int64(1), int64(1), object(6)\n",
      "memory usage: 1.4+ MB\n"
     ]
    }
   ],
   "source": [
    "# Convert data type of 'ReplyCount' to integer\n",
    "df['ReplyCount'] = pd.to_numeric(df['ReplyCount'], errors='coerce').astype('Int64')\n",
    "df.info()"
   ]
  },
  {
   "cell_type": "code",
   "execution_count": 11,
   "metadata": {},
   "outputs": [
    {
     "data": {
      "text/html": [
       "<div>\n",
       "<style scoped>\n",
       "    .dataframe tbody tr th:only-of-type {\n",
       "        vertical-align: middle;\n",
       "    }\n",
       "\n",
       "    .dataframe tbody tr th {\n",
       "        vertical-align: top;\n",
       "    }\n",
       "\n",
       "    .dataframe thead th {\n",
       "        text-align: right;\n",
       "    }\n",
       "</style>\n",
       "<table border=\"1\" class=\"dataframe\">\n",
       "  <thead>\n",
       "    <tr style=\"text-align: right;\">\n",
       "      <th></th>\n",
       "      <th>ID</th>\n",
       "      <th>ParentID</th>\n",
       "      <th>Timestamp</th>\n",
       "      <th>Username</th>\n",
       "      <th>Comment</th>\n",
       "      <th>LikeCount</th>\n",
       "      <th>ReplyCount</th>\n",
       "      <th>Date</th>\n",
       "    </tr>\n",
       "  </thead>\n",
       "  <tbody>\n",
       "    <tr>\n",
       "      <th>14134</th>\n",
       "      <td>UgzWvu72I8m9-U8pq8F4AaABAg</td>\n",
       "      <td>None</td>\n",
       "      <td>2023-03-14T11:13:13Z</td>\n",
       "      <td>@onthebluesky</td>\n",
       "      <td>Guys, lagu ini bukan tentang LGBT, tapi tentan...</td>\n",
       "      <td>19401</td>\n",
       "      <td>751</td>\n",
       "      <td>2023-03-14T11:13:13Z</td>\n",
       "    </tr>\n",
       "    <tr>\n",
       "      <th>13411</th>\n",
       "      <td>Ugxb2yPnhvOFAaF_b2d4AaABAg</td>\n",
       "      <td>None</td>\n",
       "      <td>2023-03-14T13:56:21Z</td>\n",
       "      <td>@driezkh</td>\n",
       "      <td>Performance Videonya kaya memberitahu kita ten...</td>\n",
       "      <td>2319</td>\n",
       "      <td>70</td>\n",
       "      <td>2023-03-20T17:56:27Z</td>\n",
       "    </tr>\n",
       "    <tr>\n",
       "      <th>21823</th>\n",
       "      <td>UgzCYP-5eQOScO828UZ4AaABAg</td>\n",
       "      <td>None</td>\n",
       "      <td>2023-03-13T13:16:02Z</td>\n",
       "      <td>@adanjir1923</td>\n",
       "      <td>Satu persatu member diberikan kesempatan  buat...</td>\n",
       "      <td>1885</td>\n",
       "      <td>63</td>\n",
       "      <td>2023-03-13T13:16:02Z</td>\n",
       "    </tr>\n",
       "    <tr>\n",
       "      <th>16959</th>\n",
       "      <td>UgwQ0xdL1_z3bGf9UM94AaABAg</td>\n",
       "      <td>None</td>\n",
       "      <td>2023-03-14T05:24:15Z</td>\n",
       "      <td>@Jkt48990</td>\n",
       "      <td>fiks, kalau kedepan jkt48 release single MVnya...</td>\n",
       "      <td>1863</td>\n",
       "      <td>80</td>\n",
       "      <td>2023-03-14T05:24:15Z</td>\n",
       "    </tr>\n",
       "    <tr>\n",
       "      <th>2393</th>\n",
       "      <td>UgyO_jkZ191_KXd7EUR4AaABAg</td>\n",
       "      <td>None</td>\n",
       "      <td>2023-10-21T18:45:55Z</td>\n",
       "      <td>@ahmadfikri5186</td>\n",
       "      <td>Malam ini rahasia ya\\nKamu tak boleh bilang si...</td>\n",
       "      <td>967</td>\n",
       "      <td>13</td>\n",
       "      <td>2023-10-21T18:45:55Z</td>\n",
       "    </tr>\n",
       "  </tbody>\n",
       "</table>\n",
       "</div>"
      ],
      "text/plain": [
       "                               ID ParentID             Timestamp  \\\n",
       "14134  UgzWvu72I8m9-U8pq8F4AaABAg     None  2023-03-14T11:13:13Z   \n",
       "13411  Ugxb2yPnhvOFAaF_b2d4AaABAg     None  2023-03-14T13:56:21Z   \n",
       "21823  UgzCYP-5eQOScO828UZ4AaABAg     None  2023-03-13T13:16:02Z   \n",
       "16959  UgwQ0xdL1_z3bGf9UM94AaABAg     None  2023-03-14T05:24:15Z   \n",
       "2393   UgyO_jkZ191_KXd7EUR4AaABAg     None  2023-10-21T18:45:55Z   \n",
       "\n",
       "              Username                                            Comment  \\\n",
       "14134    @onthebluesky  Guys, lagu ini bukan tentang LGBT, tapi tentan...   \n",
       "13411         @driezkh  Performance Videonya kaya memberitahu kita ten...   \n",
       "21823     @adanjir1923  Satu persatu member diberikan kesempatan  buat...   \n",
       "16959        @Jkt48990  fiks, kalau kedepan jkt48 release single MVnya...   \n",
       "2393   @ahmadfikri5186  Malam ini rahasia ya\\nKamu tak boleh bilang si...   \n",
       "\n",
       "       LikeCount  ReplyCount                  Date  \n",
       "14134      19401         751  2023-03-14T11:13:13Z  \n",
       "13411       2319          70  2023-03-20T17:56:27Z  \n",
       "21823       1885          63  2023-03-13T13:16:02Z  \n",
       "16959       1863          80  2023-03-14T05:24:15Z  \n",
       "2393         967          13  2023-10-21T18:45:55Z  "
      ]
     },
     "execution_count": 11,
     "metadata": {},
     "output_type": "execute_result"
    }
   ],
   "source": [
    "# Check Top Comments\n",
    "top_comments = df[df['ParentID'].isnull()].sort_values(by=['LikeCount', 'ReplyCount'], ascending=False).head()\n",
    "top_comments"
   ]
  },
  {
   "cell_type": "code",
   "execution_count": 12,
   "metadata": {},
   "outputs": [
    {
     "data": {
      "text/html": [
       "<div>\n",
       "<style scoped>\n",
       "    .dataframe tbody tr th:only-of-type {\n",
       "        vertical-align: middle;\n",
       "    }\n",
       "\n",
       "    .dataframe tbody tr th {\n",
       "        vertical-align: top;\n",
       "    }\n",
       "\n",
       "    .dataframe thead th {\n",
       "        text-align: right;\n",
       "    }\n",
       "</style>\n",
       "<table border=\"1\" class=\"dataframe\">\n",
       "  <thead>\n",
       "    <tr style=\"text-align: right;\">\n",
       "      <th></th>\n",
       "      <th>ID</th>\n",
       "      <th>ParentID</th>\n",
       "      <th>Timestamp</th>\n",
       "      <th>Username</th>\n",
       "      <th>Comment</th>\n",
       "      <th>LikeCount</th>\n",
       "      <th>ReplyCount</th>\n",
       "      <th>Date</th>\n",
       "    </tr>\n",
       "  </thead>\n",
       "  <tbody>\n",
       "    <tr>\n",
       "      <th>14135</th>\n",
       "      <td>UgzWvu72I8m9-U8pq8F4AaABAg.9nEbUI92zYg9nEbdnwRgsp</td>\n",
       "      <td>UgzWvu72I8m9-U8pq8F4AaABAg</td>\n",
       "      <td>2023-03-14T11:14:39Z</td>\n",
       "      <td>@appharel</td>\n",
       "      <td>Ya harusnya pake model cowok dong, ini mana co...</td>\n",
       "      <td>710</td>\n",
       "      <td>&lt;NA&gt;</td>\n",
       "      <td>2023-03-14T11:14:39Z</td>\n",
       "    </tr>\n",
       "    <tr>\n",
       "      <th>14136</th>\n",
       "      <td>UgzWvu72I8m9-U8pq8F4AaABAg.9nEbUI92zYg9nEbgS02exh</td>\n",
       "      <td>UgzWvu72I8m9-U8pq8F4AaABAg</td>\n",
       "      <td>2023-03-14T11:15:00Z</td>\n",
       "      <td>@ellaashel7846</td>\n",
       "      <td>@@appharelntar tambah ribut kalo pale cowo</td>\n",
       "      <td>2305</td>\n",
       "      <td>&lt;NA&gt;</td>\n",
       "      <td>2024-04-18T02:25:17Z</td>\n",
       "    </tr>\n",
       "    <tr>\n",
       "      <th>14137</th>\n",
       "      <td>UgzWvu72I8m9-U8pq8F4AaABAg.9nEbUI92zYg9nEbkSF3e-V</td>\n",
       "      <td>UgzWvu72I8m9-U8pq8F4AaABAg</td>\n",
       "      <td>2023-03-14T11:15:33Z</td>\n",
       "      <td>@seeesshhbro</td>\n",
       "      <td>@@appharel kameramennya cowo</td>\n",
       "      <td>754</td>\n",
       "      <td>&lt;NA&gt;</td>\n",
       "      <td>2023-03-14T11:15:33Z</td>\n",
       "    </tr>\n",
       "    <tr>\n",
       "      <th>14138</th>\n",
       "      <td>UgzWvu72I8m9-U8pq8F4AaABAg.9nEbUI92zYg9nEboljWhE4</td>\n",
       "      <td>UgzWvu72I8m9-U8pq8F4AaABAg</td>\n",
       "      <td>2023-03-14T11:16:08Z</td>\n",
       "      <td>@ahmadsusanto7834</td>\n",
       "      <td>​@@appharellu kena pnyakit apa si wkwkwkwk dmn...</td>\n",
       "      <td>642</td>\n",
       "      <td>&lt;NA&gt;</td>\n",
       "      <td>2024-04-18T02:25:17Z</td>\n",
       "    </tr>\n",
       "    <tr>\n",
       "      <th>14139</th>\n",
       "      <td>UgzWvu72I8m9-U8pq8F4AaABAg.9nEbUI92zYg9nEbt8Sx7Ij</td>\n",
       "      <td>UgzWvu72I8m9-U8pq8F4AaABAg</td>\n",
       "      <td>2023-03-14T11:16:44Z</td>\n",
       "      <td>@appharel</td>\n",
       "      <td>​@@seeesshhbro sambil ngocok ya pas ngerekam wkwk</td>\n",
       "      <td>95</td>\n",
       "      <td>&lt;NA&gt;</td>\n",
       "      <td>2023-03-14T11:16:44Z</td>\n",
       "    </tr>\n",
       "  </tbody>\n",
       "</table>\n",
       "</div>"
      ],
      "text/plain": [
       "                                                      ID  \\\n",
       "14135  UgzWvu72I8m9-U8pq8F4AaABAg.9nEbUI92zYg9nEbdnwRgsp   \n",
       "14136  UgzWvu72I8m9-U8pq8F4AaABAg.9nEbUI92zYg9nEbgS02exh   \n",
       "14137  UgzWvu72I8m9-U8pq8F4AaABAg.9nEbUI92zYg9nEbkSF3e-V   \n",
       "14138  UgzWvu72I8m9-U8pq8F4AaABAg.9nEbUI92zYg9nEboljWhE4   \n",
       "14139  UgzWvu72I8m9-U8pq8F4AaABAg.9nEbUI92zYg9nEbt8Sx7Ij   \n",
       "\n",
       "                         ParentID             Timestamp           Username  \\\n",
       "14135  UgzWvu72I8m9-U8pq8F4AaABAg  2023-03-14T11:14:39Z          @appharel   \n",
       "14136  UgzWvu72I8m9-U8pq8F4AaABAg  2023-03-14T11:15:00Z     @ellaashel7846   \n",
       "14137  UgzWvu72I8m9-U8pq8F4AaABAg  2023-03-14T11:15:33Z       @seeesshhbro   \n",
       "14138  UgzWvu72I8m9-U8pq8F4AaABAg  2023-03-14T11:16:08Z  @ahmadsusanto7834   \n",
       "14139  UgzWvu72I8m9-U8pq8F4AaABAg  2023-03-14T11:16:44Z          @appharel   \n",
       "\n",
       "                                                 Comment  LikeCount  \\\n",
       "14135  Ya harusnya pake model cowok dong, ini mana co...        710   \n",
       "14136         @@appharelntar tambah ribut kalo pale cowo       2305   \n",
       "14137                       @@appharel kameramennya cowo        754   \n",
       "14138  ​@@appharellu kena pnyakit apa si wkwkwkwk dmn...        642   \n",
       "14139  ​@@seeesshhbro sambil ngocok ya pas ngerekam wkwk         95   \n",
       "\n",
       "       ReplyCount                  Date  \n",
       "14135        <NA>  2023-03-14T11:14:39Z  \n",
       "14136        <NA>  2024-04-18T02:25:17Z  \n",
       "14137        <NA>  2023-03-14T11:15:33Z  \n",
       "14138        <NA>  2024-04-18T02:25:17Z  \n",
       "14139        <NA>  2023-03-14T11:16:44Z  "
      ]
     },
     "execution_count": 12,
     "metadata": {},
     "output_type": "execute_result"
    }
   ],
   "source": [
    "# Check Top Comment Replies\n",
    "top_comment_replies = df[df['ParentID'] == 'UgzWvu72I8m9-U8pq8F4AaABAg']\n",
    "top_comment_replies.head()"
   ]
  },
  {
   "cell_type": "markdown",
   "metadata": {},
   "source": [
    "# Save to CSV"
   ]
  },
  {
   "cell_type": "code",
   "execution_count": 13,
   "metadata": {},
   "outputs": [],
   "source": [
    "dir_ = \"dataset/\"\n",
    "filename = dir_ + f\"oshibe_spv_comments_{date.today()}.csv\"\n",
    "df.to_csv(filename, index=False)"
   ]
  }
 ],
 "metadata": {
  "kernelspec": {
   "display_name": ".venv",
   "language": "python",
   "name": "python3"
  },
  "language_info": {
   "codemirror_mode": {
    "name": "ipython",
    "version": 3
   },
   "file_extension": ".py",
   "mimetype": "text/x-python",
   "name": "python",
   "nbconvert_exporter": "python",
   "pygments_lexer": "ipython3",
   "version": "3.11.0"
  }
 },
 "nbformat": 4,
 "nbformat_minor": 2
}
