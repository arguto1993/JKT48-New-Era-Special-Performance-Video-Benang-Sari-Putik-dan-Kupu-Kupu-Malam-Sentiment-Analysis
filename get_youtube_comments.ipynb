{
 "cells": [
  {
   "cell_type": "markdown",
   "metadata": {},
   "source": [
    "# Import Libraries"
   ]
  },
  {
   "cell_type": "code",
   "execution_count": 1,
   "metadata": {},
   "outputs": [],
   "source": [
    "import pandas as pd\n",
    "import getpass\n",
    "\n",
    "from datetime import date\n",
    "from googleapiclient.discovery import build"
   ]
  },
  {
   "cell_type": "markdown",
   "metadata": {},
   "source": [
    "# Build YouTube Client"
   ]
  },
  {
   "cell_type": "code",
   "execution_count": 2,
   "metadata": {},
   "outputs": [],
   "source": [
    "YT_API_KEY =  getpass.getpass('Enter YouTube API key: ')"
   ]
  },
  {
   "cell_type": "code",
   "execution_count": 3,
   "metadata": {},
   "outputs": [],
   "source": [
    "VIDEO_ID = \"UUGY64rPLxo\""
   ]
  },
  {
   "cell_type": "code",
   "execution_count": 4,
   "metadata": {},
   "outputs": [],
   "source": [
    "YT_CLIENT = build('youtube', 'v3', developerKey=YT_API_KEY)"
   ]
  },
  {
   "cell_type": "markdown",
   "metadata": {},
   "source": [
    "# API Call Functions"
   ]
  },
  {
   "cell_type": "code",
   "execution_count": 5,
   "metadata": {},
   "outputs": [],
   "source": [
    "# Function to get replies for a specific comment\n",
    "def get_replies(yt_client, comment_id):\n",
    "    replies = []\n",
    "    next_page_token = None\n",
    "\n",
    "    while True:\n",
    "        # Only use pageToken for pagination\n",
    "        reply_request = yt_client.comments().list(\n",
    "            part=\"snippet\",\n",
    "            parentId=comment_id,\n",
    "            textFormat=\"plainText\",\n",
    "            pageToken=next_page_token\n",
    "        )\n",
    "        reply_response = reply_request.execute()\n",
    "\n",
    "        for item in reply_response['items']:\n",
    "            comment = item['snippet']\n",
    "            replies.append({\n",
    "                'ID': item['id'],  # Unique ID for the reply\n",
    "                'ParentID': comment_id,  # Parent comment ID\n",
    "                'Timestamp': comment['publishedAt'],\n",
    "                'Username': comment['authorDisplayName'],\n",
    "                'Comment': comment['textDisplay'],\n",
    "                'LikeCount': comment.get('likeCount', 0),\n",
    "                'ReplyCount': None,\n",
    "                'Date': comment.get('updatedAt', comment['publishedAt'])\n",
    "            })\n",
    "\n",
    "        # Get the next page token\n",
    "        next_page_token = reply_response.get('nextPageToken')\n",
    "        if not next_page_token:  # Stop if no more pages\n",
    "            break\n",
    "\n",
    "    return replies\n",
    "\n",
    "\n",
    "# Function to get all comments (including replies) for a single video\n",
    "def get_yt_video_comments(yt_client=YT_CLIENT, video_id=VIDEO_ID):\n",
    "    all_comments = []\n",
    "    next_page_token = None\n",
    "\n",
    "    while True:\n",
    "        comment_request = yt_client.commentThreads().list(\n",
    "            part=\"snippet\",\n",
    "            videoId=video_id,\n",
    "            pageToken=next_page_token,\n",
    "            textFormat=\"plainText\",\n",
    "            maxResults=100\n",
    "        )\n",
    "        comment_response = comment_request.execute()\n",
    "\n",
    "        for item in comment_response['items']:\n",
    "            top_comment = item['snippet']['topLevelComment']['snippet']\n",
    "            top_comment_id = item['snippet']['topLevelComment']['id']\n",
    "            all_comments.append({\n",
    "                'ID': top_comment_id,  # Unique ID for top-level comment\n",
    "                'ParentID': None,  # No parent for top-level comment\n",
    "                'Timestamp': top_comment['publishedAt'],\n",
    "                'Username': top_comment['authorDisplayName'],\n",
    "                'Comment': top_comment['textDisplay'],\n",
    "                'LikeCount': top_comment.get('likeCount', 0),\n",
    "                'ReplyCount': top_comment.get('totalReplyCount', 0),\n",
    "                'Date': top_comment.get('updatedAt', top_comment['publishedAt'])\n",
    "            })\n",
    "\n",
    "            # Fetch replies if there are any\n",
    "            if item['snippet']['totalReplyCount'] > 0:\n",
    "                all_comments.extend(get_replies(yt_client, top_comment_id))\n",
    "\n",
    "        next_page_token = comment_response.get('nextPageToken')\n",
    "        if not next_page_token:\n",
    "            break\n",
    "\n",
    "    df = pd.DataFrame(all_comments)\n",
    "\n",
    "    return df\n"
   ]
  },
  {
   "cell_type": "markdown",
   "metadata": {},
   "source": [
    "# Execute API Call"
   ]
  },
  {
   "cell_type": "code",
   "execution_count": 6,
   "metadata": {},
   "outputs": [
    {
     "name": "stdout",
     "output_type": "stream",
     "text": [
      "<class 'pandas.core.frame.DataFrame'>\n",
      "RangeIndex: 23005 entries, 0 to 23004\n",
      "Data columns (total 8 columns):\n",
      " #   Column      Non-Null Count  Dtype  \n",
      "---  ------      --------------  -----  \n",
      " 0   ID          23005 non-null  object \n",
      " 1   ParentID    11090 non-null  object \n",
      " 2   Timestamp   23005 non-null  object \n",
      " 3   Username    23005 non-null  object \n",
      " 4   Comment     23005 non-null  object \n",
      " 5   LikeCount   23005 non-null  int64  \n",
      " 6   ReplyCount  11915 non-null  float64\n",
      " 7   Date        23005 non-null  object \n",
      "dtypes: float64(1), int64(1), object(6)\n",
      "memory usage: 1.4+ MB\n"
     ]
    }
   ],
   "source": [
    "df = get_yt_video_comments(YT_CLIENT, VIDEO_ID)\n",
    "df.info()"
   ]
  },
  {
   "cell_type": "code",
   "execution_count": 7,
   "metadata": {},
   "outputs": [
    {
     "data": {
      "text/html": [
       "<div>\n",
       "<style scoped>\n",
       "    .dataframe tbody tr th:only-of-type {\n",
       "        vertical-align: middle;\n",
       "    }\n",
       "\n",
       "    .dataframe tbody tr th {\n",
       "        vertical-align: top;\n",
       "    }\n",
       "\n",
       "    .dataframe thead th {\n",
       "        text-align: right;\n",
       "    }\n",
       "</style>\n",
       "<table border=\"1\" class=\"dataframe\">\n",
       "  <thead>\n",
       "    <tr style=\"text-align: right;\">\n",
       "      <th></th>\n",
       "      <th>ID</th>\n",
       "      <th>ParentID</th>\n",
       "      <th>Timestamp</th>\n",
       "      <th>Username</th>\n",
       "      <th>Comment</th>\n",
       "      <th>LikeCount</th>\n",
       "      <th>ReplyCount</th>\n",
       "      <th>Date</th>\n",
       "    </tr>\n",
       "  </thead>\n",
       "  <tbody>\n",
       "    <tr>\n",
       "      <th>0</th>\n",
       "      <td>Ugw1etMquQZlMcsRYP14AaABAg</td>\n",
       "      <td>None</td>\n",
       "      <td>2025-01-12T04:05:25Z</td>\n",
       "      <td>@Jevano_livia</td>\n",
       "      <td>Anjay</td>\n",
       "      <td>0</td>\n",
       "      <td>0.0</td>\n",
       "      <td>2025-01-12T04:05:25Z</td>\n",
       "    </tr>\n",
       "    <tr>\n",
       "      <th>1</th>\n",
       "      <td>UgxJqpTEcsVrR-EwpAp4AaABAg</td>\n",
       "      <td>None</td>\n",
       "      <td>2025-01-12T01:46:00Z</td>\n",
       "      <td>@marshaldhiya12</td>\n",
       "      <td>yang kecanduan nonton sampe 2025 merapat</td>\n",
       "      <td>0</td>\n",
       "      <td>0.0</td>\n",
       "      <td>2025-01-12T01:46:00Z</td>\n",
       "    </tr>\n",
       "    <tr>\n",
       "      <th>2</th>\n",
       "      <td>UgzutXV_oszidT3jG2p4AaABAg</td>\n",
       "      <td>None</td>\n",
       "      <td>2025-01-11T10:33:50Z</td>\n",
       "      <td>@ArsyLa-e9y</td>\n",
       "      <td>Seru denger nya❤</td>\n",
       "      <td>0</td>\n",
       "      <td>0.0</td>\n",
       "      <td>2025-01-11T10:33:50Z</td>\n",
       "    </tr>\n",
       "    <tr>\n",
       "      <th>3</th>\n",
       "      <td>UgxyAmycchpw6C8scw54AaABAg</td>\n",
       "      <td>None</td>\n",
       "      <td>2025-01-10T08:30:27Z</td>\n",
       "      <td>@debuinbelitung7927</td>\n",
       "      <td>Lirik lagu, :\\nMalam ini rahasia ya\\nKamu tak ...</td>\n",
       "      <td>0</td>\n",
       "      <td>0.0</td>\n",
       "      <td>2025-01-10T08:30:27Z</td>\n",
       "    </tr>\n",
       "    <tr>\n",
       "      <th>4</th>\n",
       "      <td>UgzTPB9_t8Kj6iD3IzR4AaABAg</td>\n",
       "      <td>None</td>\n",
       "      <td>2025-01-08T10:23:36Z</td>\n",
       "      <td>@frizzz3896</td>\n",
       "      <td>muthe model seriusss cakepp juga😅</td>\n",
       "      <td>3</td>\n",
       "      <td>0.0</td>\n",
       "      <td>2025-01-08T10:23:36Z</td>\n",
       "    </tr>\n",
       "  </tbody>\n",
       "</table>\n",
       "</div>"
      ],
      "text/plain": [
       "                           ID ParentID             Timestamp  \\\n",
       "0  Ugw1etMquQZlMcsRYP14AaABAg     None  2025-01-12T04:05:25Z   \n",
       "1  UgxJqpTEcsVrR-EwpAp4AaABAg     None  2025-01-12T01:46:00Z   \n",
       "2  UgzutXV_oszidT3jG2p4AaABAg     None  2025-01-11T10:33:50Z   \n",
       "3  UgxyAmycchpw6C8scw54AaABAg     None  2025-01-10T08:30:27Z   \n",
       "4  UgzTPB9_t8Kj6iD3IzR4AaABAg     None  2025-01-08T10:23:36Z   \n",
       "\n",
       "              Username                                            Comment  \\\n",
       "0        @Jevano_livia                                              Anjay   \n",
       "1      @marshaldhiya12           yang kecanduan nonton sampe 2025 merapat   \n",
       "2          @ArsyLa-e9y                                   Seru denger nya❤   \n",
       "3  @debuinbelitung7927  Lirik lagu, :\\nMalam ini rahasia ya\\nKamu tak ...   \n",
       "4          @frizzz3896                  muthe model seriusss cakepp juga😅   \n",
       "\n",
       "   LikeCount  ReplyCount                  Date  \n",
       "0          0         0.0  2025-01-12T04:05:25Z  \n",
       "1          0         0.0  2025-01-12T01:46:00Z  \n",
       "2          0         0.0  2025-01-11T10:33:50Z  \n",
       "3          0         0.0  2025-01-10T08:30:27Z  \n",
       "4          3         0.0  2025-01-08T10:23:36Z  "
      ]
     },
     "execution_count": 7,
     "metadata": {},
     "output_type": "execute_result"
    }
   ],
   "source": [
    "df.head()"
   ]
  },
  {
   "cell_type": "markdown",
   "metadata": {},
   "source": [
    "# Save to CSV"
   ]
  },
  {
   "cell_type": "code",
   "execution_count": 8,
   "metadata": {},
   "outputs": [],
   "source": [
    "dir_ = \"dataset/\"\n",
    "filename = dir_ + f\"oshibe_spv_comments_{date.today()}.csv\"\n",
    "df.to_csv(filename, index=False)"
   ]
  }
 ],
 "metadata": {
  "kernelspec": {
   "display_name": ".venv",
   "language": "python",
   "name": "python3"
  },
  "language_info": {
   "codemirror_mode": {
    "name": "ipython",
    "version": 3
   },
   "file_extension": ".py",
   "mimetype": "text/x-python",
   "name": "python",
   "nbconvert_exporter": "python",
   "pygments_lexer": "ipython3",
   "version": "3.13.1"
  }
 },
 "nbformat": 4,
 "nbformat_minor": 2
}
