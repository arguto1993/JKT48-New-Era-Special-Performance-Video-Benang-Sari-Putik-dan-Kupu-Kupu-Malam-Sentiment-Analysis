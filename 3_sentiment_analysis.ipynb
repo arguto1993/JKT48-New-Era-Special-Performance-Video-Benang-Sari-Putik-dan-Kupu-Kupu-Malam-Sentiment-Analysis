{
 "cells": [
  {
   "cell_type": "markdown",
   "metadata": {},
   "source": [
    "# Import Libraries"
   ]
  },
  {
   "cell_type": "code",
   "execution_count": 5,
   "metadata": {},
   "outputs": [],
   "source": [
    "import matplotlib.pyplot as plt\n",
    "import nltk\n",
    "import pandas as pd\n",
    "\n",
    "from nltk.corpus import stopwords\n",
    "from Sastrawi.Stemmer.StemmerFactory import StemmerFactory\n",
    "from tqdm import tqdm"
   ]
  },
  {
   "cell_type": "markdown",
   "metadata": {},
   "source": [
    "# Load Dataset"
   ]
  },
  {
   "cell_type": "code",
   "execution_count": 2,
   "metadata": {},
   "outputs": [
    {
     "name": "stdout",
     "output_type": "stream",
     "text": [
      "<class 'pandas.core.frame.DataFrame'>\n",
      "RangeIndex: 11650 entries, 0 to 11649\n",
      "Data columns (total 10 columns):\n",
      " #   Column         Non-Null Count  Dtype  \n",
      "---  ------         --------------  -----  \n",
      " 0   ID             11650 non-null  object \n",
      " 1   Username       11650 non-null  object \n",
      " 2   Comment        11650 non-null  object \n",
      " 3   LikeCount      11650 non-null  int64  \n",
      " 4   ReplyCount     11650 non-null  int64  \n",
      " 5   Date           11650 non-null  object \n",
      " 6   Comment_clean  11650 non-null  object \n",
      " 7   Comment_size   11650 non-null  int64  \n",
      " 8   Sentiment      11650 non-null  object \n",
      " 9   Confidence     11650 non-null  float64\n",
      "dtypes: float64(1), int64(3), object(6)\n",
      "memory usage: 910.3+ KB\n"
     ]
    }
   ],
   "source": [
    "dir_ = \"dataset/\"\n",
    "file_labeled = dir_ + 'oshibe_spv_comments_2025-01-15_labeled.csv'\n",
    "comments = pd.read_csv(file_labeled)\n",
    "comments.info()"
   ]
  },
  {
   "cell_type": "markdown",
   "metadata": {},
   "source": [
    "# Tokenization & Stemming"
   ]
  },
  {
   "cell_type": "code",
   "execution_count": 3,
   "metadata": {},
   "outputs": [
    {
     "name": "stderr",
     "output_type": "stream",
     "text": [
      "[nltk_data] Downloading package wordnet to\n",
      "[nltk_data]     C:\\Users\\User\\AppData\\Roaming\\nltk_data...\n",
      "[nltk_data]   Package wordnet is already up-to-date!\n",
      "[nltk_data] Downloading package omw-1.4 to\n",
      "[nltk_data]     C:\\Users\\User\\AppData\\Roaming\\nltk_data...\n",
      "[nltk_data]   Package omw-1.4 is already up-to-date!\n",
      "[nltk_data] Downloading package stopwords to\n",
      "[nltk_data]     C:\\Users\\User\\AppData\\Roaming\\nltk_data...\n",
      "[nltk_data]   Package stopwords is already up-to-date!\n"
     ]
    },
    {
     "data": {
      "text/plain": [
       "True"
      ]
     },
     "execution_count": 3,
     "metadata": {},
     "output_type": "execute_result"
    }
   ],
   "source": [
    "nltk.download('wordnet')\n",
    "nltk.download('omw-1.4')\n",
    "nltk.download('stopwords')"
   ]
  },
  {
   "cell_type": "code",
   "execution_count": 6,
   "metadata": {},
   "outputs": [
    {
     "name": "stderr",
     "output_type": "stream",
     "text": [
      "Cleaning & Stemming Comments: 100%|██████████| 11650/11650 [20:43<00:00,  9.37it/s] \n"
     ]
    }
   ],
   "source": [
    "# Inisialisasi Stemmer dan Lemmatizer\n",
    "factory = StemmerFactory()\n",
    "indo_stemmer = factory.create_stemmer()\n",
    "\n",
    "# Gabungkan stopwords bahasa Inggris dan Indonesia\n",
    "indo_stopwords = set(stopwords.words('indonesian'))\n",
    "eng_stopwords = set(stopwords.words('english'))\n",
    "all_stopwords = indo_stopwords.union(eng_stopwords)\n",
    "\n",
    "def clean_stem(comment):\n",
    "    \"\"\"\n",
    "    Membersihkan data, melakukan stemming untuk teks dalam bahasa Indonesia.\n",
    "    \"\"\"\n",
    "    # Tokenisasi\n",
    "    words = comment.lower().split()\n",
    "    \n",
    "    # Proses setiap kata\n",
    "    processed_words = []\n",
    "    for word in words:\n",
    "        if word in all_stopwords:\n",
    "            continue\n",
    "        \n",
    "        # Stemming untuk bahasa Indonesia\n",
    "        stemmed = indo_stemmer.stem(word)\n",
    "        processed_words.append(stemmed)\n",
    "    \n",
    "    # Gabungkan kembali kata-kata yang telah diproses\n",
    "    return ' '.join(processed_words)\n",
    "\n",
    "\n",
    "# Apply the function with progress bar\n",
    "tqdm.pandas(desc=\"Cleaning & Stemming Comments\")\n",
    "comments['Comment_stem'] = comments['Comment_clean'].progress_apply(clean_stem)"
   ]
  },
  {
   "cell_type": "code",
   "execution_count": 7,
   "metadata": {},
   "outputs": [
    {
     "data": {
      "text/html": [
       "<div>\n",
       "<style scoped>\n",
       "    .dataframe tbody tr th:only-of-type {\n",
       "        vertical-align: middle;\n",
       "    }\n",
       "\n",
       "    .dataframe tbody tr th {\n",
       "        vertical-align: top;\n",
       "    }\n",
       "\n",
       "    .dataframe thead th {\n",
       "        text-align: right;\n",
       "    }\n",
       "</style>\n",
       "<table border=\"1\" class=\"dataframe\">\n",
       "  <thead>\n",
       "    <tr style=\"text-align: right;\">\n",
       "      <th></th>\n",
       "      <th>Comment</th>\n",
       "      <th>Comment_clean</th>\n",
       "      <th>Comment_stem</th>\n",
       "    </tr>\n",
       "  </thead>\n",
       "  <tbody>\n",
       "    <tr>\n",
       "      <th>0</th>\n",
       "      <td>Guys, lagu ini bukan tentang LGBT, tapi tentan...</td>\n",
       "      <td>Guys, lagu ini bukan tentang LGBT, tapi tentan...</td>\n",
       "      <td>guys lagu lgbt gadis muda yg anjak dewasa hila...</td>\n",
       "    </tr>\n",
       "    <tr>\n",
       "      <th>1</th>\n",
       "      <td>Performance Videonya kaya memberitahu kita ten...</td>\n",
       "      <td>Performance Videonya kaya memberitahu kita ten...</td>\n",
       "      <td>performance video kaya memberitahu dampak buru...</td>\n",
       "    </tr>\n",
       "    <tr>\n",
       "      <th>2</th>\n",
       "      <td>Satu persatu member diberikan kesempatan  buat...</td>\n",
       "      <td>Satu persatu member diberikan kesempatan buat ...</td>\n",
       "      <td>satu member sempat tunjuk potensi biar gk iri ...</td>\n",
       "    </tr>\n",
       "    <tr>\n",
       "      <th>3</th>\n",
       "      <td>fiks, kalau kedepan jkt48 release single MVnya...</td>\n",
       "      <td>fiks, kalau kedepan jkt48 release single MVnya...</td>\n",
       "      <td>fiks depan jkt48 release single mvnya gak jauh...</td>\n",
       "    </tr>\n",
       "    <tr>\n",
       "      <th>4</th>\n",
       "      <td>Malam ini rahasia ya\\nKamu tak boleh bilang si...</td>\n",
       "      <td>Malam ini rahasia ya Kamu tak boleh bilang sia...</td>\n",
       "      <td>malam rahasia ya bilang siapa rahasia apa ah c...</td>\n",
       "    </tr>\n",
       "    <tr>\n",
       "      <th>5</th>\n",
       "      <td>Terlepas dari kontroversi yang ada, sejujurnya...</td>\n",
       "      <td>Terlepas dari kontroversi yang ada, sejujurnya...</td>\n",
       "      <td>lepas kontroversi ada jujur lagu representasi ...</td>\n",
       "    </tr>\n",
       "    <tr>\n",
       "      <th>6</th>\n",
       "      <td>Terlepas dari hate comen 18+. Jujur ini suatu ...</td>\n",
       "      <td>Terlepas dari hate comen 18+. Jujur ini suatu ...</td>\n",
       "      <td>lepas hate comen 18 jujur maju banget jkt48 ko...</td>\n",
       "    </tr>\n",
       "    <tr>\n",
       "      <th>7</th>\n",
       "      <td>Gila konsep MV nya keren banget, good job JKT48</td>\n",
       "      <td>Gila konsep MV nya keren banget, good job JKT48</td>\n",
       "      <td>gila konsep mv nya keren banget good job jkt48</td>\n",
       "    </tr>\n",
       "    <tr>\n",
       "      <th>8</th>\n",
       "      <td>Congrats JKT48 NEW ERA atas mini albumnya. JKT...</td>\n",
       "      <td>Congrats JKT48 NEW ERA atas mini albumnya. JKT...</td>\n",
       "      <td>congrats jkt48 new era mini album jkt48 jaya j...</td>\n",
       "    </tr>\n",
       "    <tr>\n",
       "      <th>9</th>\n",
       "      <td>buay yg blg lesbi itu salah besar ya, ini tuh ...</td>\n",
       "      <td>buay yg blg lesbi itu salah besar ya, ini tuh ...</td>\n",
       "      <td>buay yg blg lesbi salah ya tuh makna lumayan b...</td>\n",
       "    </tr>\n",
       "  </tbody>\n",
       "</table>\n",
       "</div>"
      ],
      "text/plain": [
       "                                             Comment  \\\n",
       "0  Guys, lagu ini bukan tentang LGBT, tapi tentan...   \n",
       "1  Performance Videonya kaya memberitahu kita ten...   \n",
       "2  Satu persatu member diberikan kesempatan  buat...   \n",
       "3  fiks, kalau kedepan jkt48 release single MVnya...   \n",
       "4  Malam ini rahasia ya\\nKamu tak boleh bilang si...   \n",
       "5  Terlepas dari kontroversi yang ada, sejujurnya...   \n",
       "6  Terlepas dari hate comen 18+. Jujur ini suatu ...   \n",
       "7    Gila konsep MV nya keren banget, good job JKT48   \n",
       "8  Congrats JKT48 NEW ERA atas mini albumnya. JKT...   \n",
       "9  buay yg blg lesbi itu salah besar ya, ini tuh ...   \n",
       "\n",
       "                                       Comment_clean  \\\n",
       "0  Guys, lagu ini bukan tentang LGBT, tapi tentan...   \n",
       "1  Performance Videonya kaya memberitahu kita ten...   \n",
       "2  Satu persatu member diberikan kesempatan buat ...   \n",
       "3  fiks, kalau kedepan jkt48 release single MVnya...   \n",
       "4  Malam ini rahasia ya Kamu tak boleh bilang sia...   \n",
       "5  Terlepas dari kontroversi yang ada, sejujurnya...   \n",
       "6  Terlepas dari hate comen 18+. Jujur ini suatu ...   \n",
       "7    Gila konsep MV nya keren banget, good job JKT48   \n",
       "8  Congrats JKT48 NEW ERA atas mini albumnya. JKT...   \n",
       "9  buay yg blg lesbi itu salah besar ya, ini tuh ...   \n",
       "\n",
       "                                        Comment_stem  \n",
       "0  guys lagu lgbt gadis muda yg anjak dewasa hila...  \n",
       "1  performance video kaya memberitahu dampak buru...  \n",
       "2  satu member sempat tunjuk potensi biar gk iri ...  \n",
       "3  fiks depan jkt48 release single mvnya gak jauh...  \n",
       "4  malam rahasia ya bilang siapa rahasia apa ah c...  \n",
       "5  lepas kontroversi ada jujur lagu representasi ...  \n",
       "6  lepas hate comen 18 jujur maju banget jkt48 ko...  \n",
       "7     gila konsep mv nya keren banget good job jkt48  \n",
       "8  congrats jkt48 new era mini album jkt48 jaya j...  \n",
       "9  buay yg blg lesbi salah ya tuh makna lumayan b...  "
      ]
     },
     "execution_count": 7,
     "metadata": {},
     "output_type": "execute_result"
    }
   ],
   "source": [
    "comments[['Comment', 'Comment_clean', 'Comment_stem']].head(10)"
   ]
  },
  {
   "cell_type": "markdown",
   "metadata": {},
   "source": [
    "# Overall Sentiment"
   ]
  },
  {
   "cell_type": "code",
   "execution_count": 61,
   "metadata": {},
   "outputs": [],
   "source": [
    "# Define Font Size & Colors\n",
    "TITLE_FONT_SIZE = 15\n",
    "JKT48_COLORS = ['red', 'darkgray', 'black']"
   ]
  },
  {
   "cell_type": "code",
   "execution_count": 68,
   "metadata": {},
   "outputs": [
    {
     "data": {
      "image/png": "[encoded data removed]",
      "text/plain": [
       "<Figure size 500x500 with 1 Axes>"
      ]
     },
     "metadata": {},
     "output_type": "display_data"
    }
   ],
   "source": [
    "# Count the values in the Sentiment column and reorder\n",
    "sentiment_order = [\"positive\", \"neutral\", \"negative\"]\n",
    "sentiment_counts = comments['Sentiment'].value_counts()\n",
    "sentiment_counts = sentiment_counts.reindex(sentiment_order)\n",
    "total_count = len(comments)\n",
    "\n",
    "# Create pie chart\n",
    "plt.figure(figsize=(5, 5))  # Adjust the figure size for a square aspect ratio\n",
    "wedges, texts, autotexts = plt.pie(\n",
    "    sentiment_counts.values,\n",
    "    labels=sentiment_counts.index,\n",
    "    colors=JKT48_COLORS,\n",
    "    startangle=90,\n",
    "    autopct=lambda p: f'{int(p * total_count / 100):,} ({p:.0f}%)',\n",
    "    explode=(0.01, 0.01, 0.01)  # Optional: explode the first slice for emphasis\n",
    ")\n",
    "\n",
    "# Set specific colors for the data labels inside the pie chart\n",
    "for i, autotext in enumerate(autotexts):\n",
    "    if i == 0 or i == 2:  # Positive and Negative\n",
    "        autotext.set_color('white')  # Set to white for positive and negative\n",
    "    else:  # Neutral\n",
    "        autotext.set_color('black')  # Set to black for neutral\n",
    "\n",
    "# Customize chart\n",
    "plt.title(f'Sentiment Distribution\\nAcross {total_count:,} Comments', fontsize=TITLE_FONT_SIZE)\n",
    "\n",
    "plt.show()\n"
   ]
  },
  {
   "cell_type": "markdown",
   "metadata": {},
   "source": [
    "- Secara keseluruhan, terdapat 47% komentar positif, 21 persen netral, dan 31 persen negatif"
   ]
  },
  {
   "cell_type": "code",
   "execution_count": 66,
   "metadata": {},
   "outputs": [
    {
     "data": {
      "image/png": "[encoded data removed]",
      "text/plain": [
       "<Figure size 1000x700 with 4 Axes>"
      ]
     },
     "metadata": {},
     "output_type": "display_data"
    }
   ],
   "source": [
    "# Calculate total LikeCount and ReplyCount for each sentiment\n",
    "like_counts = comments.groupby('Sentiment')['LikeCount'].sum().reindex(sentiment_order)\n",
    "reply_counts = comments.groupby('Sentiment')['ReplyCount'].sum().reindex(sentiment_order)\n",
    "\n",
    "# Calculate average LikeCount and ReplyCount per comment\n",
    "average_like_counts = comments.groupby('Sentiment')['LikeCount'].mean().reindex(sentiment_order)\n",
    "average_reply_counts = comments.groupby('Sentiment')['ReplyCount'].mean().reindex(sentiment_order)\n",
    "\n",
    "# Create a figure with subplots\n",
    "fig, axs = plt.subplots(2, 2, figsize=(10, 7))\n",
    "\n",
    "# Bar chart for LikeCount\n",
    "bars1 = axs[0, 0].bar(\n",
    "    like_counts.index,\n",
    "    like_counts.values,\n",
    "    color=JKT48_COLORS\n",
    ")\n",
    "\n",
    "# Add data labels for LikeCount\n",
    "for bar, count in zip(bars1, like_counts.values):\n",
    "    axs[0, 0].text(\n",
    "        bar.get_x() + bar.get_width() / 2,\n",
    "        bar.get_height() + 2,  # Add extra space\n",
    "        f\"{count:,}\",  # Format count with commas\n",
    "        ha='center',\n",
    "        va='bottom',\n",
    "        fontsize=12,\n",
    "        color='black'\n",
    "    )\n",
    "\n",
    "# Customize LikeCount chart\n",
    "axs[0, 0].set_title('Total LikeCount by Sentiment', fontsize=TITLE_FONT_SIZE, y=1.1)\n",
    "axs[0, 0].set_xticks(like_counts.index)\n",
    "axs[0, 0].tick_params(axis='x', rotation=0)\n",
    "axs[0, 0].set_yticks([])  # Remove y-axis ticks\n",
    "axs[0, 0].spines['left'].set_visible(False)  # Remove y-axis line\n",
    "axs[0, 0].spines['top'].set_visible(False)  # Remove top line\n",
    "axs[0, 0].spines['right'].set_visible(False)  # Remove right line\n",
    "\n",
    "# Bar chart for ReplyCount\n",
    "bars2 = axs[0, 1].bar(\n",
    "    reply_counts.index,\n",
    "    reply_counts.values,\n",
    "    color=JKT48_COLORS\n",
    ")\n",
    "\n",
    "# Add data labels for ReplyCount\n",
    "for bar, count in zip(bars2, reply_counts.values):\n",
    "    axs[0, 1].text(\n",
    "        bar.get_x() + bar.get_width() / 2,\n",
    "        bar.get_height() + 2,  # Add extra space\n",
    "        f\"{count:,}\",  # Format count with commas\n",
    "        ha='center',\n",
    "        va='bottom',\n",
    "        fontsize=12,\n",
    "        color='black'\n",
    "    )\n",
    "\n",
    "# Customize ReplyCount chart\n",
    "axs[0, 1].set_title('Total ReplyCount by Sentiment', fontsize=TITLE_FONT_SIZE, y=1.1)\n",
    "axs[0, 1].set_xticks(reply_counts.index)\n",
    "axs[0, 1].tick_params(axis='x', rotation=0)\n",
    "axs[0, 1].set_yticks([])  # Remove y-axis ticks\n",
    "axs[0, 1].spines['left'].set_visible(False)  # Remove y-axis line\n",
    "axs[0, 1].spines['top'].set_visible(False)  # Remove top line\n",
    "axs[0, 1].spines['right'].set_visible(False)  # Remove right line\n",
    "\n",
    "# Bar chart for Average LikeCount per comment\n",
    "bars3 = axs[1, 0].bar(\n",
    "    average_like_counts.index,\n",
    "    average_like_counts.values,\n",
    "    color=JKT48_COLORS\n",
    ")\n",
    "\n",
    "# Add data labels for Average LikeCount\n",
    "for bar, count in zip(bars3, average_like_counts.values):\n",
    "    axs[1, 0].text(\n",
    "        bar.get_x() + bar.get_width() / 2,\n",
    "        bar.get_height() + 0.1,  # Add extra space\n",
    "        f\"{count:.2f}\",  # Format count with two decimal places\n",
    "        ha='center',\n",
    "        va='bottom',\n",
    "        fontsize=12,\n",
    "        color='black'\n",
    "    )\n",
    "\n",
    "# Customize Average LikeCount chart\n",
    "axs[1, 0].set_title('Average LikeCount by Sentiment', fontsize=TITLE_FONT_SIZE, y=1.1)\n",
    "axs[1, 0].set_xticks(average_like_counts.index)\n",
    "axs[1, 0].tick_params(axis='x', rotation=0)\n",
    "axs[1, 0].set_yticks([])  # Remove y-axis ticks\n",
    "axs[1, 0].spines['left'].set_visible(False)  # Remove y-axis line\n",
    "axs[1, 0].spines['top'].set_visible(False)  # Remove top line\n",
    "axs[1, 0].spines['right'].set_visible(False)  # Remove right line\n",
    "\n",
    "# Bar chart for Average ReplyCount per comment\n",
    "bars4 = axs[1, 1].bar(\n",
    "    average_reply_counts.index,\n",
    "    average_reply_counts.values,\n",
    "    color=JKT48_COLORS\n",
    ")\n",
    "\n",
    "# Add data labels for Average ReplyCount\n",
    "for bar, count in zip(bars4, average_reply_counts.values):\n",
    "    y = bar.get_height() * 1.01\n",
    "    axs[1, 1].text(\n",
    "        bar.get_x() + bar.get_width() / 2,\n",
    "        y,\n",
    "        f\"{count:.2f}\",  # Format count with two decimal places\n",
    "        ha='center',\n",
    "        va='bottom',\n",
    "        fontsize=12,\n",
    "        color='black'\n",
    "    )\n",
    "\n",
    "# Customize Average ReplyCount chart\n",
    "axs[1, 1].set_title('Average ReplyCount by Sentiment', fontsize=TITLE_FONT_SIZE, y=1.1)\n",
    "axs[1, 1].set_xticks(average_reply_counts.index)\n",
    "axs[1, 1].tick_params(axis='x', rotation=0)\n",
    "axs[1, 1].set_yticks([])  # Remove y-axis ticks\n",
    "axs[1, 1].spines['left'].set_visible(False)  # Remove y-axis line\n",
    "axs[1, 1].spines['top'].set_visible(False)  # Remove top line\n",
    "axs[1, 1].spines['right'].set_visible(False)  # Remove right line\n",
    "\n",
    "# Adjust layout\n",
    "plt.tight_layout(w_pad=5, pad=3)\n",
    "plt.show()\n"
   ]
  },
  {
   "cell_type": "markdown",
   "metadata": {},
   "source": [
    "- Komentar positif mendapatkan paling banyak like secara total, diikuti oleh komentar netral, sedangkan komentar negatif memiliki paling sedikit like.\n",
    "- Namun demikian, justru komentar negatif yang mendapatkan paling banyak balasan dibanding komentar positif dan netral\n",
    "- Rata-rata jumlah like per komentar tertinggi diperoleh komentar dengan sentimen netral, diikuti dengan sentimen positif dan negatif\n",
    "- Rata-rata jumlah balasan tertinggi diraih oleh komentar negatif, diikuti oleh komentar netral dan positif"
   ]
  },
  {
   "cell_type": "markdown",
   "metadata": {},
   "source": [
    "# Positive Sentiment"
   ]
  },
  {
   "cell_type": "code",
   "execution_count": null,
   "metadata": {},
   "outputs": [],
   "source": []
  },
  {
   "cell_type": "markdown",
   "metadata": {},
   "source": [
    "# Neutral Sentiment"
   ]
  },
  {
   "cell_type": "code",
   "execution_count": null,
   "metadata": {},
   "outputs": [],
   "source": []
  },
  {
   "cell_type": "markdown",
   "metadata": {},
   "source": [
    "# Negative Sentiment"
   ]
  },
  {
   "cell_type": "code",
   "execution_count": null,
   "metadata": {},
   "outputs": [],
   "source": []
  }
 ],
 "metadata": {
  "kernelspec": {
   "display_name": ".venv",
   "language": "python",
   "name": "python3"
  },
  "language_info": {
   "codemirror_mode": {
    "name": "ipython",
    "version": 3
   },
   "file_extension": ".py",
   "mimetype": "text/x-python",
   "name": "python",
   "nbconvert_exporter": "python",
   "pygments_lexer": "ipython3",
   "version": "3.11.0"
  }
 },
 "nbformat": 4,
 "nbformat_minor": 2
}
